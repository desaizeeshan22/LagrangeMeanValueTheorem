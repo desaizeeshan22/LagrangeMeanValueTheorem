{
  "nbformat": 4,
  "nbformat_minor": 0,
  "metadata": {
    "colab": {
      "provenance": [],
      "authorship_tag": "ABX9TyPOKl4DazBk6GcxLqf9JR5G",
      "include_colab_link": true
    },
    "kernelspec": {
      "name": "python3",
      "display_name": "Python 3"
    },
    "language_info": {
      "name": "python"
    }
  },
  "cells": [
    {
      "cell_type": "markdown",
      "metadata": {
        "id": "view-in-github",
        "colab_type": "text"
      },
      "source": [
        "<a href=\"https://colab.research.google.com/github/desaizeeshan22/LagrangeMeanValueTheorem/blob/master/LangrangeMeanValueTheorem.ipynb\" target=\"_parent\"><img src=\"https://colab.research.google.com/assets/colab-badge.svg\" alt=\"Open In Colab\"/></a>"
      ]
    },
    {
      "cell_type": "code",
      "execution_count": 5,
      "metadata": {
        "id": "w2hpTTYYmeeh"
      },
      "outputs": [],
      "source": [
        "import sympy as sp"
      ]
    },
    {
      "cell_type": "markdown",
      "source": [
        "Lagrange Mean value theorem states that given a function f(x):\n",
        "\n",
        "*   If x E [a,b] and f(x) is continuous on [a,b]\n",
        "*   f(x) differentiable on (a,b)\n",
        "\n",
        "There exists a point c E (a,b) s.t f'(c)=(f(b)-f(a))/(b-a)\n",
        "\n"
      ],
      "metadata": {
        "id": "MJ-uUMdemnxy"
      }
    },
    {
      "cell_type": "markdown",
      "source": [
        "Geometrical interpretation: Let there be a line connecting pts (a,f(a)) and (b,f(b)), then there exists a pt c such that the tangent to the point c is parallel to the line connecting pts a and b. Hence f'(c) slope of tangent at pt c is equal to the slop of the line connecting a and b"
      ],
      "metadata": {
        "id": "nQbW1PYUnKv3"
      }
    },
    {
      "cell_type": "code",
      "source": [
        "def calculate_c(f,a,b):\n",
        "  differential_c=sp.diff(f,x)\n",
        "  slope_tangent_c=(f.subs({x:b})-f.subs({x:a}))/(b-a)\n",
        "  ans_Set=sp.solveset(sp.Eq(differential_c,slope_tangent_c))\n",
        "  res=[]\n",
        "  for ans in ans_Set:\n",
        "    if(ans>a and ans<b):\n",
        "      res.append(ans)\n",
        "  return res"
      ],
      "metadata": {
        "id": "CfvUPCjLnHW1"
      },
      "execution_count": 13,
      "outputs": []
    },
    {
      "cell_type": "code",
      "source": [
        "x=sp.symbols('x')\n",
        "f=x**3-8*x-5\n",
        "f"
      ],
      "metadata": {
        "colab": {
          "base_uri": "https://localhost:8080/",
          "height": 39
        },
        "id": "7rY3IiTQoRMr",
        "outputId": "0598825e-e7e3-4421-99c1-d8cb0cd94b4f"
      },
      "execution_count": 14,
      "outputs": [
        {
          "output_type": "execute_result",
          "data": {
            "text/plain": [
              "x**3 - 8*x - 5"
            ],
            "text/latex": "$\\displaystyle x^{3} - 8 x - 5$"
          },
          "metadata": {},
          "execution_count": 14
        }
      ]
    },
    {
      "cell_type": "code",
      "source": [
        "print(calculate_c(f,1,4))"
      ],
      "metadata": {
        "colab": {
          "base_uri": "https://localhost:8080/"
        },
        "id": "eukf5iaEoXGp",
        "outputId": "589db6c7-9a5c-4378-ba99-032608fcb85f"
      },
      "execution_count": 15,
      "outputs": [
        {
          "output_type": "stream",
          "name": "stdout",
          "text": [
            "[sqrt(7)]\n"
          ]
        }
      ]
    },
    {
      "cell_type": "code",
      "source": [],
      "metadata": {
        "id": "RYmdVKD_pIeM"
      },
      "execution_count": null,
      "outputs": []
    }
  ]
}